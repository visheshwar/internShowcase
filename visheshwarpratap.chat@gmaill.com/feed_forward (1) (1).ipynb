{
 "cells": [
  {
   "cell_type": "code",
   "execution_count": 1,
   "metadata": {
    "colab": {
     "base_uri": "https://localhost:8080/",
     "height": 34
    },
    "colab_type": "code",
    "id": "R7NkSlCdArJW",
    "outputId": "b8c735d0-50f8-4fd7-bb34-f9c032b6d0a7"
   },
   "outputs": [
    {
     "name": "stderr",
     "output_type": "stream",
     "text": [
      "Using TensorFlow backend.\n"
     ]
    }
   ],
   "source": [
    "import numpy as np\n",
    "import os\n",
    "import tempfile\n",
    "import matplotlib.pyplot as plt\n",
    "import keras\n",
    "from keras import backend as K\n",
    "from keras import layers\n",
    "from keras.datasets import mnist\n",
    "\n",
    "import tensorflow as tf"
   ]
  },
  {
   "cell_type": "code",
   "execution_count": 2,
   "metadata": {
    "colab": {
     "base_uri": "https://localhost:8080/",
     "height": 51
    },
    "colab_type": "code",
    "id": "ynwfeCRwAsLY",
    "outputId": "46bebce2-8f35-4a5e-f690-1d17c6c3743a"
   },
   "outputs": [
    {
     "name": "stdout",
     "output_type": "stream",
     "text": [
      "Downloading data from https://s3.amazonaws.com/img-datasets/mnist.npz\n",
      "11493376/11490434 [==============================] - 0s 0us/step\n"
     ]
    }
   ],
   "source": [
    "from keras.datasets import mnist\n",
    "(train_images, train_labels), (test_images, test_labels) = mnist.load_data()"
   ]
  },
  {
   "cell_type": "markdown",
   "metadata": {
    "colab_type": "text",
    "id": "BqQRTqrbA73e"
   },
   "source": [
    "Let’s see how the data looks like. The data consists of handwritten numbers ranging from 0 to 9, along with their ground truth. It has 60,000 train samples and 10,000 test samples. Each sample is a 28×28 grayscale image."
   ]
  },
  {
   "cell_type": "code",
   "execution_count": 3,
   "metadata": {
    "colab": {
     "base_uri": "https://localhost:8080/",
     "height": 403
    },
    "colab_type": "code",
    "id": "9tAGVNxxAtAZ",
    "outputId": "13d94e04-05c2-46ae-a16b-7e8a11caccc9"
   },
   "outputs": [
    {
     "name": "stdout",
     "output_type": "stream",
     "text": [
      "Training data shape :  (60000, 28, 28) (60000,)\n",
      "Testing data shape :  (10000, 28, 28) (10000,)\n",
      "Total number of outputs :  10\n",
      "Output classes :  [0 1 2 3 4 5 6 7 8 9]\n"
     ]
    },
    {
     "data": {
      "text/plain": [
       "Text(0.5, 1.0, 'Ground Truth : 7')"
      ]
     },
     "execution_count": 3,
     "metadata": {
      "tags": []
     },
     "output_type": "execute_result"
    },
    {
     "data": {
      "image/png": "[encoded data removed]",
      "text/plain": [
       "<Figure size 720x360 with 2 Axes>"
      ]
     },
     "metadata": {
      "tags": []
     },
     "output_type": "display_data"
    }
   ],
   "source": [
    "from keras.utils import to_categorical\n",
    " \n",
    "print('Training data shape : ', train_images.shape, train_labels.shape)\n",
    " \n",
    "print('Testing data shape : ', test_images.shape, test_labels.shape)\n",
    " \n",
    "# Find the unique numbers from the train labels\n",
    "classes = np.unique(train_labels)\n",
    "nClasses = len(classes)\n",
    "print('Total number of outputs : ', nClasses)\n",
    "print('Output classes : ', classes)\n",
    " \n",
    "plt.figure(figsize=[10,5])\n",
    " \n",
    "# Display the first image in training data\n",
    "plt.subplot(121)\n",
    "plt.imshow(train_images[0,:,:], cmap='gray')\n",
    "plt.title(\"Ground Truth : {}\".format(train_labels[0]))\n",
    " \n",
    "# Display the first image in testing data\n",
    "plt.subplot(122)\n",
    "plt.imshow(test_images[0,:,:], cmap='gray')\n",
    "plt.title(\"Ground Truth : {}\".format(test_labels[0]))"
   ]
  },
  {
   "cell_type": "markdown",
   "metadata": {
    "colab_type": "text",
    "id": "FeX2CVmUBZ6D"
   },
   "source": [
    "Process the data\n",
    "The images are grayscale and the pixel values range from 0 to 255. We will apply the following preprocessing to the data before feeding it to the network.\n",
    "\n",
    "Convert each image matrix ( 28×28 ) to an array ( 28*28 = 784 dimenstional ) which will be fed to the network as a single feature."
   ]
  },
  {
   "cell_type": "code",
   "execution_count": 0,
   "metadata": {
    "colab": {},
    "colab_type": "code",
    "id": "u4VxvCYsBC7e"
   },
   "outputs": [],
   "source": [
    "# Change from matrix to array of dimension 28x28 to array of dimention 784\n",
    "dimData = np.prod(train_images.shape[1:])\n",
    "train_data = train_images.reshape(train_images.shape[0], dimData)\n",
    "test_data = test_images.reshape(test_images.shape[0], dimData)\n",
    "\n",
    "#converting the data to float and scalling between 0 to 1\n",
    "# Change to float datatype\n",
    "train_data = train_data.astype('float32')\n",
    "test_data = test_data.astype('float32')\n",
    " \n",
    "# Scale the data to lie between 0 to 1\n",
    "train_data /= 255\n",
    "test_data /= 255"
   ]
  },
  {
   "cell_type": "markdown",
   "metadata": {
    "colab_type": "text",
    "id": "mEqmakV7AFJM"
   },
   "source": [
    "Convert the labels from integer to categorical ( one-hot ) encoding since that is the format required by Keras to perform multiclass classification. One-hot encoding is a type of boolean representation of integer data. It converts the integer to an array of all zeros except a 1 at the index of the integer.\n",
    "For example, using a one-hot encoding for 10 classes, the integer 5 will be encoded as 0000010000"
   ]
  },
  {
   "cell_type": "code",
   "execution_count": 5,
   "metadata": {
    "colab": {
     "base_uri": "https://localhost:8080/",
     "height": 51
    },
    "colab_type": "code",
    "id": "DPHhOofXB2VB",
    "outputId": "e4d97d14-c173-4b79-ff58-588d5fb9c12e"
   },
   "outputs": [
    {
     "name": "stdout",
     "output_type": "stream",
     "text": [
      "Original label 0 :  5\n",
      "After conversion to categorical ( one-hot ) :  [0. 0. 0. 0. 0. 1. 0. 0. 0. 0.]\n"
     ]
    }
   ],
   "source": [
    "# Change the labels from integer to categorical data\n",
    "train_labels_one_hot = to_categorical(train_labels)\n",
    "test_labels_one_hot = to_categorical(test_labels)\n",
    " \n",
    "# Display the change for category label using one-hot encoding\n",
    "print('Original label 0 : ', train_labels[0])\n",
    "print('After conversion to categorical ( one-hot ) : ', train_labels_one_hot[0])"
   ]
  },
  {
   "cell_type": "markdown",
   "metadata": {
    "colab_type": "text",
    "id": "OKmGtOV0CA5N"
   },
   "source": [
    ". Keras Workflow for training the network\n",
    "We have described the Keras Workflow in our previous post. The block diagram is given here for reference. Basically, once you have the training and test data, you can follow these steps to train a neural network in Keras.\n",
    "keras-workflow\n",
    "https://www.learnopencv.com/wp-content/uploads/2017/09/keras-workflow.jpg\n",
    "\n"
   ]
  },
  {
   "cell_type": "code",
   "execution_count": 0,
   "metadata": {
    "colab": {},
    "colab_type": "code",
    "id": "R0QHRV5LCBq4"
   },
   "outputs": [],
   "source": []
  },
  {
   "cell_type": "markdown",
   "metadata": {
    "colab_type": "text",
    "id": "q6l6DzAKCo-D"
   },
   "source": [
    "Create the Network\n",
    "We had mentioned that we will be using a network with 2 hidden layers and an output layer with 10 units. The number of units in the hidden layers is kept to be 512. The input to the network is the 784-dimensional array converted from the 28×28 image.\n",
    "\n",
    "We will use the Sequential model for building the network. In the Sequential model, we can just stack up layers by adding the desired layer one by one. We use the Dense layer, also called fully connected layer since we are building a feedforward network in which all the neurons from one layer are connected to the neurons in the previous layer. Apart from the Dense layer, we add the ReLU activation function which is required to introduce non-linearity to the model. This will help the network learn non-linear decision boundaries. The last layer is a softmax layer as it is a multiclass classification problem. For binary classification, we can use sigmoid."
   ]
  },
  {
   "cell_type": "code",
   "execution_count": 0,
   "metadata": {
    "colab": {},
    "colab_type": "code",
    "id": "X26G_7uKCqcn"
   },
   "outputs": [],
   "source": [
    "from keras.models import Sequential\n",
    "from keras.layers import Dense\n",
    "model = Sequential()\n",
    "model.add(Dense(512, activation='relu', input_shape=(dimData,)))\n",
    "model.add(Dropout(0.5))\n",
    "model.add(Dense(512, activation='relu'))\n",
    "model.add(Dropout(0.5))\n",
    "model.add(Dense(nClasses, activation='softmax'))"
   ]
  },
  {
   "cell_type": "markdown",
   "metadata": {
    "colab_type": "text",
    "id": "B38mwosdC-lE"
   },
   "source": [
    "In this step, we configure the optimizer to be rmsprop. We also specify the loss type which is categorical cross entropy which is used for multiclass classification. We also specify the metrics ( accuracy in this case ) which we want to track during the training process. You can also try using any other optimizer such as adam or SGD."
   ]
  },
  {
   "cell_type": "code",
   "execution_count": 0,
   "metadata": {
    "colab": {},
    "colab_type": "code",
    "id": "3jv5jHzUCujQ"
   },
   "outputs": [],
   "source": [
    "model.compile(optimizer='rmsprop', loss='categorical_crossentropy', metrics=['accuracy'])"
   ]
  },
  {
   "cell_type": "markdown",
   "metadata": {
    "colab_type": "text",
    "id": "DJACBlpCDKsU"
   },
   "source": [
    "he network is ready to get trained. This is done using the fit() function in Keras. We specify the number of epochs as 20. This means that the whole dataset will be fed to the network 20 times. We will be using the test data for validation."
   ]
  },
  {
   "cell_type": "code",
   "execution_count": 13,
   "metadata": {
    "colab": {
     "base_uri": "https://localhost:8080/",
     "height": 1000
    },
    "colab_type": "code",
    "id": "3SGI1zOjDEGv",
    "outputId": "8c499424-7767-4cb7-8656-e82c1fced9b1"
   },
   "outputs": [
    {
     "name": "stderr",
     "output_type": "stream",
     "text": [
      "W0823 05:46:18.669377 139782592382848 deprecation.py:323] From /usr/local/lib/python3.6/dist-packages/tensorflow/python/ops/math_grad.py:1250: add_dispatch_support.<locals>.wrapper (from tensorflow.python.ops.array_ops) is deprecated and will be removed in a future version.\n",
      "Instructions for updating:\n",
      "Use tf.where in 2.0, which has the same broadcast rule as np.where\n"
     ]
    },
    {
     "name": "stdout",
     "output_type": "stream",
     "text": [
      "Train on 60000 samples, validate on 10000 samples\n",
      "Epoch 1/30\n",
      "60000/60000 [==============================] - 9s 142us/step - loss: 0.3753 - acc: 0.8837 - val_loss: 0.1439 - val_acc: 0.9549\n",
      "Epoch 2/30\n",
      "60000/60000 [==============================] - 8s 133us/step - loss: 0.1682 - acc: 0.9498 - val_loss: 0.0989 - val_acc: 0.9703\n",
      "Epoch 3/30\n",
      "60000/60000 [==============================] - 8s 137us/step - loss: 0.1280 - acc: 0.9609 - val_loss: 0.1106 - val_acc: 0.9670\n",
      "Epoch 4/30\n",
      "60000/60000 [==============================] - 8s 132us/step - loss: 0.1106 - acc: 0.9674 - val_loss: 0.0799 - val_acc: 0.9761\n",
      "Epoch 5/30\n",
      "60000/60000 [==============================] - 8s 133us/step - loss: 0.0969 - acc: 0.9711 - val_loss: 0.0833 - val_acc: 0.9758\n",
      "Epoch 6/30\n",
      "60000/60000 [==============================] - 8s 133us/step - loss: 0.0889 - acc: 0.9735 - val_loss: 0.0746 - val_acc: 0.9801\n",
      "Epoch 7/30\n",
      "60000/60000 [==============================] - 8s 133us/step - loss: 0.0826 - acc: 0.9759 - val_loss: 0.0749 - val_acc: 0.9791\n",
      "Epoch 8/30\n",
      "60000/60000 [==============================] - 8s 133us/step - loss: 0.0751 - acc: 0.9777 - val_loss: 0.0738 - val_acc: 0.9813\n",
      "Epoch 9/30\n",
      "60000/60000 [==============================] - 8s 133us/step - loss: 0.0699 - acc: 0.9792 - val_loss: 0.0787 - val_acc: 0.9794\n",
      "Epoch 10/30\n",
      "60000/60000 [==============================] - 8s 134us/step - loss: 0.0680 - acc: 0.9796 - val_loss: 0.0764 - val_acc: 0.9814\n",
      "Epoch 11/30\n",
      "60000/60000 [==============================] - 8s 133us/step - loss: 0.0641 - acc: 0.9811 - val_loss: 0.0755 - val_acc: 0.9824\n",
      "Epoch 12/30\n",
      "60000/60000 [==============================] - 8s 133us/step - loss: 0.0628 - acc: 0.9815 - val_loss: 0.0740 - val_acc: 0.9827\n",
      "Epoch 13/30\n",
      "60000/60000 [==============================] - 8s 132us/step - loss: 0.0623 - acc: 0.9824 - val_loss: 0.0745 - val_acc: 0.9825\n",
      "Epoch 14/30\n",
      "60000/60000 [==============================] - 8s 135us/step - loss: 0.0567 - acc: 0.9836 - val_loss: 0.0770 - val_acc: 0.9842\n",
      "Epoch 15/30\n",
      "60000/60000 [==============================] - 8s 132us/step - loss: 0.0566 - acc: 0.9840 - val_loss: 0.0756 - val_acc: 0.9823\n",
      "Epoch 16/30\n",
      "60000/60000 [==============================] - 8s 131us/step - loss: 0.0547 - acc: 0.9848 - val_loss: 0.0742 - val_acc: 0.9830\n",
      "Epoch 17/30\n",
      "60000/60000 [==============================] - 8s 132us/step - loss: 0.0493 - acc: 0.9858 - val_loss: 0.0813 - val_acc: 0.9840\n",
      "Epoch 18/30\n",
      "60000/60000 [==============================] - 8s 132us/step - loss: 0.0516 - acc: 0.9851 - val_loss: 0.0838 - val_acc: 0.9835\n",
      "Epoch 19/30\n",
      "60000/60000 [==============================] - 8s 132us/step - loss: 0.0515 - acc: 0.9860 - val_loss: 0.0856 - val_acc: 0.9828\n",
      "Epoch 20/30\n",
      "60000/60000 [==============================] - 8s 132us/step - loss: 0.0500 - acc: 0.9859 - val_loss: 0.0775 - val_acc: 0.9832\n",
      "Epoch 21/30\n",
      "60000/60000 [==============================] - 8s 133us/step - loss: 0.0470 - acc: 0.9865 - val_loss: 0.0765 - val_acc: 0.9835\n",
      "Epoch 22/30\n",
      "60000/60000 [==============================] - 8s 132us/step - loss: 0.0500 - acc: 0.9859 - val_loss: 0.0871 - val_acc: 0.9832\n",
      "Epoch 23/30\n",
      "60000/60000 [==============================] - 8s 132us/step - loss: 0.0464 - acc: 0.9878 - val_loss: 0.0862 - val_acc: 0.9844\n",
      "Epoch 24/30\n",
      "60000/60000 [==============================] - 8s 133us/step - loss: 0.0462 - acc: 0.9870 - val_loss: 0.0808 - val_acc: 0.9831\n",
      "Epoch 25/30\n",
      "60000/60000 [==============================] - 8s 133us/step - loss: 0.0449 - acc: 0.9878 - val_loss: 0.0911 - val_acc: 0.9828\n",
      "Epoch 26/30\n",
      "60000/60000 [==============================] - 8s 134us/step - loss: 0.0424 - acc: 0.9884 - val_loss: 0.0955 - val_acc: 0.9824\n",
      "Epoch 27/30\n",
      "60000/60000 [==============================] - 8s 134us/step - loss: 0.0453 - acc: 0.9880 - val_loss: 0.0911 - val_acc: 0.9833\n",
      "Epoch 28/30\n",
      "60000/60000 [==============================] - 8s 133us/step - loss: 0.0418 - acc: 0.9887 - val_loss: 0.0842 - val_acc: 0.9844\n",
      "Epoch 29/30\n",
      "60000/60000 [==============================] - 8s 134us/step - loss: 0.0422 - acc: 0.9890 - val_loss: 0.0855 - val_acc: 0.9841\n",
      "Epoch 30/30\n",
      "60000/60000 [==============================] - 8s 132us/step - loss: 0.0426 - acc: 0.9886 - val_loss: 0.0961 - val_acc: 0.9826\n"
     ]
    }
   ],
   "source": [
    "history = model.fit(train_data, train_labels_one_hot, batch_size=256, epochs=30, verbose=1, \n",
    "                   validation_data=(test_data, test_labels_one_hot))"
   ]
  },
  {
   "cell_type": "code",
   "execution_count": 14,
   "metadata": {
    "colab": {
     "base_uri": "https://localhost:8080/",
     "height": 51
    },
    "colab_type": "code",
    "id": "OsgKC_neDJt4",
    "outputId": "b068f665-eb38-40c3-e380-807fff83efe5"
   },
   "outputs": [
    {
     "name": "stdout",
     "output_type": "stream",
     "text": [
      "10000/10000 [==============================] - 1s 84us/step\n",
      "Evaluation result on Test Data : Loss = 0.09614570151798016, accuracy = 0.9826\n"
     ]
    }
   ],
   "source": [
    "#evalvuating it\n",
    "[test_loss, test_acc] = model.evaluate(test_data, test_labels_one_hot)\n",
    "print(\"Evaluation result on Test Data : Loss = {}, accuracy = {}\".format(test_loss, test_acc))"
   ]
  },
  {
   "cell_type": "markdown",
   "metadata": {
    "colab_type": "text",
    "id": "WsKNRkP3Do3d"
   },
   "source": [
    "6. Check for Overfitting\n",
    "The fit() function returns a history object which has a dictionary of all the metrics which were required to be tracked during training. We can use the data in the history object to plot the loss and accuracy curves to check how the training process went.\n",
    "You can use the history.history.keys() function to check what metrics are present in the history. It should look like the following\n",
    "\n",
    "[‘acc’, ‘loss’, ‘val_acc’, ‘val_loss’]\n",
    "\n",
    "Let us plot the loss and accuracy curves.\n",
    "\n",
    "\n",
    "loss curve without regularization mlp mnist\n",
    "accuracy curves without regularization mlp mnist\n",
    "\n",
    "Although the accuracy obtained above is very good, if you see the loss and accuracy curves in the above figures, you’ll notice that the validation loss initially decrease, but then it starts increasing gradually. Also, there is a substantial difference between the training and test accuracy. This is a clear sign of Overfitting which means that the network has memorized the training data very well, but is not guaranteed to work on unseen data. Thus, the difference in the training and test accuracy."
   ]
  },
  {
   "cell_type": "code",
   "execution_count": 15,
   "metadata": {
    "colab": {
     "base_uri": "https://localhost:8080/",
     "height": 822
    },
    "colab_type": "code",
    "id": "qa5uTpkSDVKT",
    "outputId": "856beb49-bf28-4ef0-ea88-62980ad6cefd"
   },
   "outputs": [
    {
     "data": {
      "text/plain": [
       "Text(0.5, 1.0, 'Accuracy Curves')"
      ]
     },
     "execution_count": 15,
     "metadata": {
      "tags": []
     },
     "output_type": "execute_result"
    },
    {
     "data": {
      "image/png": "[encoded data removed]",
      "text/plain": [
       "<Figure size 576x432 with 1 Axes>"
      ]
     },
     "metadata": {
      "tags": []
     },
     "output_type": "display_data"
    },
    {
     "data": {
      "image/png": "[encoded data removed]",
      "text/plain": [
       "<Figure size 576x432 with 1 Axes>"
      ]
     },
     "metadata": {
      "tags": []
     },
     "output_type": "display_data"
    }
   ],
   "source": [
    "#Plot the Loss Curves\n",
    "plt.figure(figsize=[8,6])\n",
    "plt.plot(history.history['loss'],'r',linewidth=3.0)\n",
    "plt.plot(history.history['val_loss'],'b',linewidth=3.0)\n",
    "plt.legend(['Training loss', 'Validation Loss'],fontsize=18)\n",
    "plt.xlabel('Epochs ',fontsize=16)\n",
    "plt.ylabel('Loss',fontsize=16)\n",
    "plt.title('Loss Curves',fontsize=16)\n",
    " \n",
    "#Plot the Accuracy Curves\n",
    "plt.figure(figsize=[8,6])\n",
    "plt.plot(history.history['acc'],'r',linewidth=3.0)\n",
    "plt.plot(history.history['val_acc'],'b',linewidth=3.0)\n",
    "plt.legend(['Training Accuracy', 'Validation Accuracy'],fontsize=18)\n",
    "plt.xlabel('Epochs ',fontsize=16)\n",
    "plt.ylabel('Accuracy',fontsize=16)\n",
    "plt.title('Accuracy Curves',fontsize=16)"
   ]
  },
  {
   "cell_type": "code",
   "execution_count": 0,
   "metadata": {
    "colab": {},
    "colab_type": "code",
    "id": "ae5qajXZD7g7"
   },
   "outputs": [],
   "source": []
  },
  {
   "cell_type": "markdown",
   "metadata": {
    "colab_type": "text",
    "id": "oagX505eEMHk"
   },
   "source": [
    "Add Regularization to the model\n",
    "Overfitting occurs mainly because the network parameters are getting too biased towards the training data. We can add a dropout layer to overcome this problem to a certain extent. In case of dropout, a fraction of neurons is randomly turned off during the training process, reducing the dependency on the training set by some amount."
   ]
  },
  {
   "cell_type": "code",
   "execution_count": 16,
   "metadata": {
    "colab": {
     "base_uri": "https://localhost:8080/",
     "height": 1000
    },
    "colab_type": "code",
    "id": "EJN0GDL7EZdY",
    "outputId": "8b2b6d9b-03a8-4d2e-b97c-63264af8767f"
   },
   "outputs": [
    {
     "name": "stdout",
     "output_type": "stream",
     "text": [
      "Train on 60000 samples, validate on 10000 samples\n",
      "Epoch 1/20\n",
      "60000/60000 [==============================] - 8s 139us/step - loss: 0.3766 - acc: 0.8825 - val_loss: 0.1523 - val_acc: 0.9525\n",
      "Epoch 2/20\n",
      "60000/60000 [==============================] - 8s 132us/step - loss: 0.1663 - acc: 0.9495 - val_loss: 0.1020 - val_acc: 0.9687\n",
      "Epoch 3/20\n",
      "60000/60000 [==============================] - 8s 133us/step - loss: 0.1296 - acc: 0.9617 - val_loss: 0.0870 - val_acc: 0.9735\n",
      "Epoch 4/20\n",
      "60000/60000 [==============================] - 8s 136us/step - loss: 0.1109 - acc: 0.9669 - val_loss: 0.0791 - val_acc: 0.9765\n",
      "Epoch 5/20\n",
      "60000/60000 [==============================] - 8s 133us/step - loss: 0.0966 - acc: 0.9705 - val_loss: 0.0775 - val_acc: 0.9782\n",
      "Epoch 6/20\n",
      "60000/60000 [==============================] - 8s 132us/step - loss: 0.0882 - acc: 0.9741 - val_loss: 0.0728 - val_acc: 0.9791\n",
      "Epoch 7/20\n",
      "60000/60000 [==============================] - 8s 134us/step - loss: 0.0809 - acc: 0.9764 - val_loss: 0.0730 - val_acc: 0.9803\n",
      "Epoch 8/20\n",
      "60000/60000 [==============================] - 8s 133us/step - loss: 0.0775 - acc: 0.9767 - val_loss: 0.0685 - val_acc: 0.9812\n",
      "Epoch 9/20\n",
      "60000/60000 [==============================] - 8s 134us/step - loss: 0.0705 - acc: 0.9793 - val_loss: 0.0798 - val_acc: 0.9809\n",
      "Epoch 10/20\n",
      "60000/60000 [==============================] - 8s 134us/step - loss: 0.0688 - acc: 0.9801 - val_loss: 0.0774 - val_acc: 0.9808\n",
      "Epoch 11/20\n",
      "60000/60000 [==============================] - 8s 134us/step - loss: 0.0661 - acc: 0.9806 - val_loss: 0.0725 - val_acc: 0.9823\n",
      "Epoch 12/20\n",
      "60000/60000 [==============================] - 8s 135us/step - loss: 0.0608 - acc: 0.9823 - val_loss: 0.0787 - val_acc: 0.9817\n",
      "Epoch 13/20\n",
      "60000/60000 [==============================] - 8s 135us/step - loss: 0.0590 - acc: 0.9825 - val_loss: 0.0775 - val_acc: 0.9827\n",
      "Epoch 14/20\n",
      "60000/60000 [==============================] - 8s 135us/step - loss: 0.0561 - acc: 0.9838 - val_loss: 0.0838 - val_acc: 0.9820\n",
      "Epoch 15/20\n",
      "60000/60000 [==============================] - 8s 134us/step - loss: 0.0555 - acc: 0.9836 - val_loss: 0.0828 - val_acc: 0.9823\n",
      "Epoch 16/20\n",
      "60000/60000 [==============================] - 8s 135us/step - loss: 0.0549 - acc: 0.9847 - val_loss: 0.0794 - val_acc: 0.9827\n",
      "Epoch 17/20\n",
      "60000/60000 [==============================] - 8s 135us/step - loss: 0.0525 - acc: 0.9856 - val_loss: 0.0794 - val_acc: 0.9829\n",
      "Epoch 18/20\n",
      "60000/60000 [==============================] - 8s 133us/step - loss: 0.0521 - acc: 0.9849 - val_loss: 0.0758 - val_acc: 0.9838\n",
      "Epoch 19/20\n",
      "60000/60000 [==============================] - 8s 134us/step - loss: 0.0516 - acc: 0.9858 - val_loss: 0.0887 - val_acc: 0.9836\n",
      "Epoch 20/20\n",
      "60000/60000 [==============================] - 8s 133us/step - loss: 0.0491 - acc: 0.9861 - val_loss: 0.0821 - val_acc: 0.9824\n"
     ]
    },
    {
     "data": {
      "text/plain": [
       "Text(0.5, 1.0, 'Accuracy Curves')"
      ]
     },
     "execution_count": 16,
     "metadata": {
      "tags": []
     },
     "output_type": "execute_result"
    },
    {
     "data": {
      "image/png": "[encoded data removed]",
      "text/plain": [
       "<Figure size 576x432 with 1 Axes>"
      ]
     },
     "metadata": {
      "tags": []
     },
     "output_type": "display_data"
    },
    {
     "data": {
      "image/png": "[encoded data removed]",
      "text/plain": [
       "<Figure size 576x432 with 1 Axes>"
      ]
     },
     "metadata": {
      "tags": []
     },
     "output_type": "display_data"
    }
   ],
   "source": [
    "#checking the performance after regularisation \n",
    "model_reg.compile(optimizer='rmsprop', loss='categorical_crossentropy', metrics=['accuracy'])\n",
    "history_reg = model_reg.fit(train_data, train_labels_one_hot, batch_size=256, epochs=20, verbose=1, \n",
    "                            validation_data=(test_data, test_labels_one_hot))\n",
    " \n",
    "#Plot the Loss Curves\n",
    "plt.figure(figsize=[8,6])\n",
    "plt.plot(history_reg.history['loss'],'r',linewidth=3.0)\n",
    "plt.plot(history_reg.history['val_loss'],'b',linewidth=3.0)\n",
    "plt.legend(['Training loss', 'Validation Loss'],fontsize=18)\n",
    "plt.xlabel('Epochs ',fontsize=16)\n",
    "plt.ylabel('Loss',fontsize=16)\n",
    "plt.title('Loss Curves',fontsize=16)\n",
    " \n",
    "#Plot the Accuracy Curves\n",
    "plt.figure(figsize=[8,6])\n",
    "plt.plot(history_reg.history['acc'],'r',linewidth=3.0)\n",
    "plt.plot(history_reg.history['val_acc'],'b',linewidth=3.0)\n",
    "plt.legend(['Training Accuracy', 'Validation Accuracy'],fontsize=18)\n",
    "plt.xlabel('Epochs ',fontsize=16)\n",
    "plt.ylabel('Accuracy',fontsize=16)\n",
    "plt.title('Accuracy Curves',fontsize=16)"
   ]
  },
  {
   "cell_type": "code",
   "execution_count": 0,
   "metadata": {
    "colab": {
     "base_uri": "https://localhost:8080/",
     "height": 68
    },
    "colab_type": "code",
    "id": "AhE7y0LoEmke",
    "outputId": "06f9bc79-b27b-4395-c599-a383f9d8c6be"
   },
   "outputs": [
    {
     "data": {
      "text/plain": [
       "array([[6.3001119e-25, 4.6016763e-15, 8.3002286e-12, 2.7886515e-12,\n",
       "        1.3541951e-23, 5.0885177e-17, 1.2525504e-30, 1.0000000e+00,\n",
       "        7.2319888e-18, 7.5069345e-15]], dtype=float32)"
      ]
     },
     "execution_count": 20,
     "metadata": {
      "tags": []
     },
     "output_type": "execute_result"
    }
   ],
   "source": [
    "# Predict the most likely class\n",
    "model_reg.predict_classes(test_data[[0],:])\n",
    "\n",
    "#the above method there is no score which tells us about the confidence with which the model does the prediction. In some cases, for example when there are many classes, we may want the probabilities of the different classes which indicates how confident the model is about the occurence of a particular class. We can take the decision based on these scores.\n",
    "# Predict the probabilities for each class \n",
    "model_reg.predict(test_data[[0],:])"
   ]
  },
  {
   "cell_type": "code",
   "execution_count": 0,
   "metadata": {
    "colab": {
     "base_uri": "https://localhost:8080/",
     "height": 129
    },
    "colab_type": "code",
    "id": "DqF3w9_8E1wZ",
    "outputId": "2e040222-f027-4f1d-dc79-d8485d1fe608"
   },
   "outputs": [
    {
     "ename": "SyntaxError",
     "evalue": "ignored",
     "output_type": "error",
     "traceback": [
      "\u001b[0;36m  File \u001b[0;32m\"<ipython-input-21-7eb09bb0d4a9>\"\u001b[0;36m, line \u001b[0;32m22\u001b[0m\n\u001b[0;31m    print 'Loading data...'\u001b[0m\n\u001b[0m                          ^\u001b[0m\n\u001b[0;31mSyntaxError\u001b[0m\u001b[0;31m:\u001b[0m Missing parentheses in call to 'print'. Did you mean print('Loading data...')?\n"
     ]
    }
   ],
   "source": [
    "#feed forward network all \n",
    "import time\n",
    "import numpy as np\n",
    "from matplotlib import pyplot as plt\n",
    "from keras.utils import np_utils\n",
    "import keras.callbacks as cb\n",
    "from keras.models import Sequential\n",
    "from keras.layers.core import Dense, Dropout, Activation\n",
    "from keras.optimizers import RMSprop\n",
    "from keras.datasets import mnist\n",
    "\n",
    "\n",
    "class LossHistory(cb.Callback):\n",
    "    def on_train_begin(self, logs={}):\n",
    "        self.losses = []\n",
    "\n",
    "    def on_batch_end(self, batch, logs={}):\n",
    "        batch_loss = logs.get('loss')\n",
    "        self.losses.append(batch_loss)\n",
    "\n",
    "\n",
    "def load_data():\n",
    "    print 'Loading data...'\n",
    "    (X_train, y_train), (X_test, y_test) = mnist.load_data()\n",
    "\n",
    "    X_train = X_train.astype('float32')\n",
    "    X_test = X_test.astype('float32')\n",
    "\n",
    "    X_train /= 255\n",
    "    X_test /= 255\n",
    "\n",
    "    y_train = np_utils.to_categorical(y_train, 10)\n",
    "    y_test = np_utils.to_categorical(y_test, 10)\n",
    "\n",
    "    X_train = np.reshape(X_train, (60000, 784))\n",
    "    X_test = np.reshape(X_test, (10000, 784))\n",
    "\n",
    "    print 'Data loaded.'\n",
    "    return [X_train, X_test, y_train, y_test]\n",
    "\n",
    "\n",
    "def init_model():\n",
    "    start_time = time.time()\n",
    "    print 'Compiling Model ... '\n",
    "    model = Sequential()\n",
    "    model.add(Dense(500, input_dim=784))\n",
    "    model.add(Activation('relu'))\n",
    "    model.add(Dropout(0.4))\n",
    "    model.add(Dense(300))\n",
    "    model.add(Activation('relu'))\n",
    "    model.add(Dropout(0.4))\n",
    "    model.add(Dense(10))\n",
    "    model.add(Activation('softmax'))\n",
    "\n",
    "    rms = RMSprop()\n",
    "    model.compile(loss='categorical_crossentropy', optimizer=rms, metrics=['accuracy'])\n",
    "    print 'Model compield in {0} seconds'.format(time.time() - start_time)\n",
    "    return model\n",
    "\n",
    "\n",
    "def run_network(data=None, model=None, epochs=20, batch=256):\n",
    "    try:\n",
    "        start_time = time.time()\n",
    "        if data is None:\n",
    "            X_train, X_test, y_train, y_test = load_data()\n",
    "        else:\n",
    "            X_train, X_test, y_train, y_test = data\n",
    "\n",
    "        if model is None:\n",
    "            model = init_model()\n",
    "\n",
    "        history = LossHistory()\n",
    "\n",
    "        print 'Training model...'\n",
    "        model.fit(X_train, y_train, nb_epoch=epochs, batch_size=batch,\n",
    "                  callbacks=[history],\n",
    "                  validation_data=(X_test, y_test), verbose=2)\n",
    "\n",
    "        print \"Training duration : {0}\".format(time.time() - start_time)\n",
    "        score = model.evaluate(X_test, y_test, batch_size=16)\n",
    "\n",
    "        print \"Network's test score [loss, accuracy]: {0}\".format(score)\n",
    "        return model, history.losses\n",
    "    except KeyboardInterrupt:\n",
    "        print ' KeyboardInterrupt'\n",
    "        return model, history.losses\n",
    "\n",
    "\n",
    "def plot_losses(losses):\n",
    "    fig = plt.figure()\n",
    "    ax = fig.add_subplot(111)\n",
    "    ax.plot(losses)\n",
    "    ax.set_title('Loss per batch')\n",
    "    fig.show()"
   ]
  },
  {
   "cell_type": "code",
   "execution_count": 0,
   "metadata": {
    "colab": {},
    "colab_type": "code",
    "id": "maTV4x9SFYrl"
   },
   "outputs": [],
   "source": []
  }
 ],
 "metadata": {
  "colab": {
   "name": "feed forward",
   "provenance": [],
   "version": "0.3.2"
  },
  "kernelspec": {
   "display_name": "Python 3",
   "language": "python",
   "name": "python3"
  },
  "language_info": {
   "codemirror_mode": {
    "name": "ipython",
    "version": 3
   },
   "file_extension": ".py",
   "mimetype": "text/x-python",
   "name": "python",
   "nbconvert_exporter": "python",
   "pygments_lexer": "ipython3",
   "version": "3.7.3"
  }
 },
 "nbformat": 4,
 "nbformat_minor": 1
}
